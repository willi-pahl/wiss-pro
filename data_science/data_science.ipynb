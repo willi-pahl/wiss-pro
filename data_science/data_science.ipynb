{
 "cells": [
  {
   "cell_type": "code",
   "execution_count": 1,
   "id": "05bed6a6-b94d-402e-9b69-b2b928d1dc94",
   "metadata": {},
   "outputs": [],
   "source": [
    "import pandas as pd\n",
    "import numpy as np\n",
    "\n",
    "df_orders = pd.read_csv('data/out_default_orders_clean.csv', sep=\";\", header=0)\n",
    "df_articles = pd.read_csv('data/out_default_articles_complete_clean.csv', sep=\";\", header=0)\n",
    "df_categories = pd.read_csv('data/out_default_categories_clean.csv', sep=\";\", header=0)"
   ]
  },
  {
   "cell_type": "code",
   "execution_count": 2,
   "id": "d1386c08-8fed-42a1-b4e4-af74ba720f15",
   "metadata": {},
   "outputs": [],
   "source": [
    "# Clear orders.\n",
    "df_orders.drop(labels=['orderStatusID', 'clearedDate', 'cleared', 'currency', 'articleName', 'articleId'], axis=1, inplace=True)\n",
    "df_orders = df_orders[(df_orders.number != -0) & (df_orders.shopId == 1)]\n",
    "df_orders.referer = df_orders.referer.fillna('')\n",
    "# print(df_orders.head(1))"
   ]
  },
  {
   "cell_type": "code",
   "execution_count": 3,
   "id": "7db925b4-bbac-46e7-a823-6cbf6e89397b",
   "metadata": {},
   "outputs": [],
   "source": [
    "df_categories.drop(labels=['metakeywords', 'metadescription'], axis=1, inplace=True)\n",
    "df_categories = df_categories[df_categories.active != 0]\n",
    "# print(df_categories.head(1))"
   ]
  },
  {
   "cell_type": "code",
   "execution_count": 4,
   "id": "808ba010-0ef4-46dc-92a3-612e0eaf7733",
   "metadata": {},
   "outputs": [],
   "source": [
    "# Clear articles.\n",
    "df_articles.drop(labels=['name'], axis=1, inplace=True)\n",
    "df_articles.rename(columns = {'ordernumber' : 'articleId','categories' : 'categoryId'}, inplace = True)\n",
    "df_articles = df_articles[df_articles.active != 0]\n",
    "df_articles[['shippingtime', 'keywords']] = df_articles[['shippingtime','keywords']].fillna('')\n",
    "df_articles['shippingtime'] = df_articles['shippingtime'].str.replace('Tage','')\n",
    "df_articles['shippingtime'] = df_articles['shippingtime'].str.replace(' ','')\n",
    "# print(df_articles.head(50))"
   ]
  },
  {
   "cell_type": "code",
   "execution_count": 5,
   "id": "81353a84-6a8c-415c-99a1-bea35f0758cb",
   "metadata": {},
   "outputs": [
    {
     "data": {
      "text/plain": [
       "articleId        object\n",
       "tax             float64\n",
       "price            object\n",
       "shippingtime     object\n",
       "shippingfree    float64\n",
       "topseller       float64\n",
       "keywords         object\n",
       "categoryId        int64\n",
       "category         object\n",
       "dtype: object"
      ]
     },
     "metadata": {},
     "output_type": "display_data"
    }
   ],
   "source": [
    "df_articles = pd.merge(df_articles, df_categories, on = 'categoryId', how = 'outer')\n",
    "df_articles.drop(labels=['active_x', 'active_y', 'parentID'], axis=1, inplace=True)\n",
    "df_articles.rename(columns = {'price_EK' : 'price','description' : 'category'}, inplace = True)\n",
    "# df_articles['topseller'] = df_articles['topseller'].astype(int)\n",
    "# display(df_articles.dtypes)\n",
    "# print(df_articles.head(60))"
   ]
  },
  {
   "cell_type": "code",
   "execution_count": 7,
   "id": "844bede1-dc84-43dd-9c64-3be00a646060",
   "metadata": {},
   "outputs": [
    {
     "data": {
      "text/plain": [
       "articleId        object\n",
       "tax             float64\n",
       "price            object\n",
       "shippingtime     object\n",
       "shippingfree      int64\n",
       "topseller         int64\n",
       "keywords         object\n",
       "categoryId        int64\n",
       "category         object\n",
       "dtype: object"
      ]
     },
     "metadata": {},
     "output_type": "display_data"
    },
    {
     "name": "stdout",
     "output_type": "stream",
     "text": [
      "   articleId  tax  price shippingtime  shippingfree  topseller  \\\n",
      "0      85803  7.0   17,9          5-8             0          0   \n",
      "1      85840  7.0  14,95          2-3             0          1   \n",
      "2      85841  7.0  14,95          2-3             0          0   \n",
      "3      85832  7.0  17,95          2-3             0          1   \n",
      "4      85822  7.0  14,95          2-3             0          0   \n",
      "5      85754  7.0   12,9          2-3             0          0   \n",
      "6      85749  7.0   12,9          2-3             0          0   \n",
      "7      85730  7.0   12,9          2-3             0          0   \n",
      "8      85846  7.0  14,95          2-3             0          0   \n",
      "9      85856  7.0  14,95          2-3             0          0   \n",
      "10     85858  7.0  24,95          2-3             0          0   \n",
      "11     85795  7.0   12,9          2-3             0          0   \n",
      "12     85831  7.0  12,95          2-3             0          0   \n",
      "13     85766  7.0    9,9          2-3             0          0   \n",
      "14     85813  7.0  14,95          2-3             0          0   \n",
      "15     85758  7.0      3          2-3             0          0   \n",
      "16     85756  7.0      5          2-3             0          0   \n",
      "17     85737  7.0   12,9          2-3             0          0   \n",
      "18     85726  7.0   12,9          2-3             0          0   \n",
      "19     85742  7.0    9,9          2-3             0          0   \n",
      "\n",
      "                                             keywords  categoryId  \\\n",
      "0   Sterben war ihr täglich Brot, Testpiloten, Buc...          26   \n",
      "1     Stasi, RAF, DDR, Frank Wilhelm, Nordkurier, MfS          26   \n",
      "2   Nachkriegszeit, Zweiter Weltkrieg, Mecklenburg...          26   \n",
      "3          Russland, Moskau, Tagebuch, Carsten Gansel          26   \n",
      "4                           Flucht, Vertreibung, 1945          26   \n",
      "5   DDR, Flucht aus der DDR, Mauerbau, wahre Begeb...          26   \n",
      "6   1945, Mecklenburg-Vorpommern, Zeitzeugenberich...          26   \n",
      "7   Zeitgeschehen, 1945, Zeitzeugenberichte, Krieg...          26   \n",
      "8   Frank Wilhelm, Birgit Langkabel, Zeitzeugen, K...          26   \n",
      "9   Frank Wilhelm, Birgit Langkabel, Zeitzeugen, K...          26   \n",
      "10  Frank Wilhelm, Neubrandenburg, Zeitzeugen, Kri...          26   \n",
      "11  Kriminalakte Vermisst,  Auf der Suche nach Wah...          44   \n",
      "12  Kriminalfälle, Krimi, Deutschland, Ermittlunge...          44   \n",
      "13  Neubrandenburg, Skelett, Neubrandenburger Skel...          44   \n",
      "14  Nutztiere, Nutztierrassen, aussterbende Nutzti...          44   \n",
      "15                                                             44   \n",
      "16  Wasserturm, Uckermark, Prenzlau, Prenzlauer Wa...          44   \n",
      "17                                                             44   \n",
      "18                                                             44   \n",
      "19  Fußball, Knabenturnier , Neubrandenburg, Fußba...          44   \n",
      "\n",
      "         category  \n",
      "0   Zeitgeschehen  \n",
      "1   Zeitgeschehen  \n",
      "2   Zeitgeschehen  \n",
      "3   Zeitgeschehen  \n",
      "4   Zeitgeschehen  \n",
      "5   Zeitgeschehen  \n",
      "6   Zeitgeschehen  \n",
      "7   Zeitgeschehen  \n",
      "8   Zeitgeschehen  \n",
      "9   Zeitgeschehen  \n",
      "10  Zeitgeschehen  \n",
      "11     Regionales  \n",
      "12     Regionales  \n",
      "13     Regionales  \n",
      "14     Regionales  \n",
      "15     Regionales  \n",
      "16     Regionales  \n",
      "17     Regionales  \n",
      "18     Regionales  \n",
      "19     Regionales  \n"
     ]
    }
   ],
   "source": [
    "df_articles[['topseller', 'shippingfree']] = df_articles[['topseller', 'shippingfree']].fillna(0.0)\n",
    "df_articles['topseller'] = df_articles['topseller'].apply(np.int64)\n",
    "df_articles['shippingfree'] = df_articles['shippingfree'].apply(np.int64)\n",
    "# display(df_articles.dtypes)\n",
    "# print(df_articles.head(1))"
   ]
  },
  {
   "cell_type": "code",
   "execution_count": null,
   "id": "9828cf74-cde7-4030-a97a-05fb32c2aca7",
   "metadata": {},
   "outputs": [],
   "source": []
  }
 ],
 "metadata": {
  "kernelspec": {
   "display_name": "Python 3 (ipykernel)",
   "language": "python",
   "name": "python3"
  },
  "language_info": {
   "codemirror_mode": {
    "name": "ipython",
    "version": 3
   },
   "file_extension": ".py",
   "mimetype": "text/x-python",
   "name": "python",
   "nbconvert_exporter": "python",
   "pygments_lexer": "ipython3",
   "version": "3.9.2"
  }
 },
 "nbformat": 4,
 "nbformat_minor": 5
}
