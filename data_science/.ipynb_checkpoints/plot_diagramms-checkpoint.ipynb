{
 "cells": [
  {
   "cell_type": "code",
   "execution_count": 1,
   "id": "812772c7-296c-422f-8e00-29c6f055567e",
   "metadata": {},
   "outputs": [],
   "source": [
    "import pandas as pd\n",
    "import numpy as np\n",
    "import matplotlib.pyplot as plt\n",
    "import seaborn as sns\n",
    "\n",
    "df_orders = pd.read_csv('data/out_default_orders_clean.csv', sep=\";\", header=0)"
   ]
  },
  {
   "cell_type": "code",
   "execution_count": 2,
   "id": "a658d1ad-6178-4966-86f6-6b5a24076541",
   "metadata": {},
   "outputs": [],
   "source": [
    "# Clear orders.\n",
    "df_orders.drop(labels=['orderStatusID', 'clearedDate', 'cleared', 'currency', 'articleName', 'articleId'], axis=1, inplace=True)\n",
    "df_orders = df_orders[(df_orders.number != -0) & (df_orders.shopId == 1)]\n",
    "df_orders.referer = df_orders.referer.fillna('')\n",
    "#print(df_orders.head(10))"
   ]
  },
  {
   "cell_type": "code",
   "execution_count": 3,
   "id": "f08b76d6-fab4-45e6-a51e-6fd09d9d02c9",
   "metadata": {},
   "outputs": [],
   "source": [
    "# Da in der Datei pro lineitem immer der Preis mit dran steht, müssen die doppelten entfernt werden.\n",
    "df_orders = df_orders.drop_duplicates(subset=\"number\", keep='first')\n",
    "#print(invoiceAmount.head(50))"
   ]
  },
  {
   "cell_type": "code",
   "execution_count": 4,
   "id": "860a53c1-b260-4a39-b54a-2891f7d45b79",
   "metadata": {},
   "outputs": [],
   "source": [
    "#df_orders['invoiceAmount','invoiceAmountNet','invoiceShipping'].hist(bins=100, figsize=(30,30))\n",
    "df_orders.drop(labels=['number', 'orderId', 'customerId', 'shopId', 'orderTime', 'referer', 'orderDetailId', 'articleNumber', 'price', 'quantity', 'taxRate'], axis=1, inplace=True)\n",
    "df_orders['invoiceAmount'] = df_orders['invoiceAmount'].str.replace(',','.')\n",
    "df_orders['invoiceAmount'] = df_orders['invoiceAmount'].astype(float)\n",
    "df_orders['invoiceShipping'] = df_orders['invoiceShipping'].str.replace(',','.')\n",
    "df_orders['invoiceShipping'] = df_orders['invoiceShipping'].astype(float)\n",
    "df_orders['invoiceAmountNet'] = df_orders['invoiceAmountNet'].str.replace(',','.')\n",
    "df_orders['invoiceAmountNet'] = df_orders['invoiceAmountNet'].astype(float)\n",
    "#print(df_orders)"
   ]
  },
  {
   "cell_type": "code",
   "execution_count": 5,
   "id": "9b7f17ab-d0fc-4bb0-9c13-e31ce126e580",
   "metadata": {},
   "outputs": [],
   "source": [
    "#print(df_orders.hist(bins=100, figsize=(15,15)))"
   ]
  },
  {
   "cell_type": "code",
   "execution_count": 6,
   "id": "7887910d-e5ba-4e4e-9556-37af12d6520a",
   "metadata": {},
   "outputs": [],
   "source": [
    "invoiceAmount=df_orders['invoiceAmount'].value_counts()"
   ]
  },
  {
   "cell_type": "code",
   "execution_count": 9,
   "id": "dffac351-f477-470d-91e0-3e252c59a557",
   "metadata": {},
   "outputs": [
    {
     "ename": "ValueError",
     "evalue": "cannot reindex from a duplicate axis",
     "output_type": "error",
     "traceback": [
      "\u001b[0;31m---------------------------------------------------------------------------\u001b[0m",
      "\u001b[0;31mValueError\u001b[0m                                Traceback (most recent call last)",
      "Input \u001b[0;32mIn [9]\u001b[0m, in \u001b[0;36m<cell line: 11>\u001b[0;34m()\u001b[0m\n\u001b[1;32m      7\u001b[0m \u001b[38;5;66;03m# Entering values in the index and columns  \u001b[39;00m\n\u001b[1;32m      8\u001b[0m \u001b[38;5;66;03m# and converting them into a panda dataframe\u001b[39;00m\n\u001b[1;32m      9\u001b[0m df \u001b[38;5;241m=\u001b[39m pd\u001b[38;5;241m.\u001b[39mDataFrame(invoiceAmount, columns \u001b[38;5;241m=\u001b[39m cols, index \u001b[38;5;241m=\u001b[39m idx)\n\u001b[0;32m---> 11\u001b[0m df \u001b[38;5;241m=\u001b[39m \u001b[43mpd\u001b[49m\u001b[38;5;241;43m.\u001b[39;49m\u001b[43mDataFrame\u001b[49m\u001b[43m(\u001b[49m\u001b[43mdf\u001b[49m\u001b[43m,\u001b[49m\u001b[43m \u001b[49m\u001b[43mcolumns\u001b[49m\u001b[43m \u001b[49m\u001b[38;5;241;43m=\u001b[39;49m\u001b[43m[\u001b[49m\u001b[38;5;124;43m'\u001b[39;49m\u001b[38;5;124;43minvoice\u001b[39;49m\u001b[38;5;124;43m'\u001b[39;49m\u001b[43m,\u001b[49m\u001b[43m \u001b[49m\u001b[38;5;124;43m'\u001b[39;49m\u001b[38;5;124;43mcount\u001b[39;49m\u001b[38;5;124;43m'\u001b[39;49m\u001b[43m]\u001b[49m\u001b[43m)\u001b[49m\n\u001b[1;32m     13\u001b[0m corr \u001b[38;5;241m=\u001b[39m df\u001b[38;5;241m.\u001b[39mcorr()\n\u001b[1;32m     14\u001b[0m sn\u001b[38;5;241m.\u001b[39mheatmap(corr, annot \u001b[38;5;241m=\u001b[39m \u001b[38;5;28;01mTrue\u001b[39;00m)\n",
      "File \u001b[0;32m/usr/lib/python3/dist-packages/pandas/core/frame.py:463\u001b[0m, in \u001b[0;36mDataFrame.__init__\u001b[0;34m(self, data, index, columns, dtype, copy)\u001b[0m\n\u001b[1;32m    460\u001b[0m         NDFrame\u001b[38;5;241m.\u001b[39m\u001b[38;5;21m__init__\u001b[39m(\u001b[38;5;28mself\u001b[39m, data)\n\u001b[1;32m    461\u001b[0m         \u001b[38;5;28;01mreturn\u001b[39;00m\n\u001b[0;32m--> 463\u001b[0m     mgr \u001b[38;5;241m=\u001b[39m \u001b[38;5;28;43mself\u001b[39;49m\u001b[38;5;241;43m.\u001b[39;49m\u001b[43m_init_mgr\u001b[49m\u001b[43m(\u001b[49m\n\u001b[1;32m    464\u001b[0m \u001b[43m        \u001b[49m\u001b[43mdata\u001b[49m\u001b[43m,\u001b[49m\u001b[43m \u001b[49m\u001b[43maxes\u001b[49m\u001b[38;5;241;43m=\u001b[39;49m\u001b[38;5;28;43mdict\u001b[39;49m\u001b[43m(\u001b[49m\u001b[43mindex\u001b[49m\u001b[38;5;241;43m=\u001b[39;49m\u001b[43mindex\u001b[49m\u001b[43m,\u001b[49m\u001b[43m \u001b[49m\u001b[43mcolumns\u001b[49m\u001b[38;5;241;43m=\u001b[39;49m\u001b[43mcolumns\u001b[49m\u001b[43m)\u001b[49m\u001b[43m,\u001b[49m\u001b[43m \u001b[49m\u001b[43mdtype\u001b[49m\u001b[38;5;241;43m=\u001b[39;49m\u001b[43mdtype\u001b[49m\u001b[43m,\u001b[49m\u001b[43m \u001b[49m\u001b[43mcopy\u001b[49m\u001b[38;5;241;43m=\u001b[39;49m\u001b[43mcopy\u001b[49m\n\u001b[1;32m    465\u001b[0m \u001b[43m    \u001b[49m\u001b[43m)\u001b[49m\n\u001b[1;32m    467\u001b[0m \u001b[38;5;28;01melif\u001b[39;00m \u001b[38;5;28misinstance\u001b[39m(data, \u001b[38;5;28mdict\u001b[39m):\n\u001b[1;32m    468\u001b[0m     mgr \u001b[38;5;241m=\u001b[39m init_dict(data, index, columns, dtype\u001b[38;5;241m=\u001b[39mdtype)\n",
      "File \u001b[0;32m/usr/lib/python3/dist-packages/pandas/core/generic.py:219\u001b[0m, in \u001b[0;36mNDFrame._init_mgr\u001b[0;34m(cls, mgr, axes, dtype, copy)\u001b[0m\n\u001b[1;32m    217\u001b[0m         axe \u001b[38;5;241m=\u001b[39m ensure_index(axe)\n\u001b[1;32m    218\u001b[0m         bm_axis \u001b[38;5;241m=\u001b[39m \u001b[38;5;28mcls\u001b[39m\u001b[38;5;241m.\u001b[39m_get_block_manager_axis(a)\n\u001b[0;32m--> 219\u001b[0m         mgr \u001b[38;5;241m=\u001b[39m \u001b[43mmgr\u001b[49m\u001b[38;5;241;43m.\u001b[39;49m\u001b[43mreindex_axis\u001b[49m\u001b[43m(\u001b[49m\u001b[43maxe\u001b[49m\u001b[43m,\u001b[49m\u001b[43m \u001b[49m\u001b[43maxis\u001b[49m\u001b[38;5;241;43m=\u001b[39;49m\u001b[43mbm_axis\u001b[49m\u001b[43m,\u001b[49m\u001b[43m \u001b[49m\u001b[43mcopy\u001b[49m\u001b[38;5;241;43m=\u001b[39;49m\u001b[38;5;28;43;01mFalse\u001b[39;49;00m\u001b[43m)\u001b[49m\n\u001b[1;32m    221\u001b[0m \u001b[38;5;66;03m# make a copy if explicitly requested\u001b[39;00m\n\u001b[1;32m    222\u001b[0m \u001b[38;5;28;01mif\u001b[39;00m copy:\n",
      "File \u001b[0;32m/usr/lib/python3/dist-packages/pandas/core/internals/managers.py:1243\u001b[0m, in \u001b[0;36mBlockManager.reindex_axis\u001b[0;34m(self, new_index, axis, method, limit, fill_value, copy)\u001b[0m\n\u001b[1;32m   1238\u001b[0m new_index \u001b[38;5;241m=\u001b[39m ensure_index(new_index)\n\u001b[1;32m   1239\u001b[0m new_index, indexer \u001b[38;5;241m=\u001b[39m \u001b[38;5;28mself\u001b[39m\u001b[38;5;241m.\u001b[39maxes[axis]\u001b[38;5;241m.\u001b[39mreindex(\n\u001b[1;32m   1240\u001b[0m     new_index, method\u001b[38;5;241m=\u001b[39mmethod, limit\u001b[38;5;241m=\u001b[39mlimit\n\u001b[1;32m   1241\u001b[0m )\n\u001b[0;32m-> 1243\u001b[0m \u001b[38;5;28;01mreturn\u001b[39;00m \u001b[38;5;28;43mself\u001b[39;49m\u001b[38;5;241;43m.\u001b[39;49m\u001b[43mreindex_indexer\u001b[49m\u001b[43m(\u001b[49m\n\u001b[1;32m   1244\u001b[0m \u001b[43m    \u001b[49m\u001b[43mnew_index\u001b[49m\u001b[43m,\u001b[49m\u001b[43m \u001b[49m\u001b[43mindexer\u001b[49m\u001b[43m,\u001b[49m\u001b[43m \u001b[49m\u001b[43maxis\u001b[49m\u001b[38;5;241;43m=\u001b[39;49m\u001b[43maxis\u001b[49m\u001b[43m,\u001b[49m\u001b[43m \u001b[49m\u001b[43mfill_value\u001b[49m\u001b[38;5;241;43m=\u001b[39;49m\u001b[43mfill_value\u001b[49m\u001b[43m,\u001b[49m\u001b[43m \u001b[49m\u001b[43mcopy\u001b[49m\u001b[38;5;241;43m=\u001b[39;49m\u001b[43mcopy\u001b[49m\n\u001b[1;32m   1245\u001b[0m \u001b[43m\u001b[49m\u001b[43m)\u001b[49m\n",
      "File \u001b[0;32m/usr/lib/python3/dist-packages/pandas/core/internals/managers.py:1285\u001b[0m, in \u001b[0;36mBlockManager.reindex_indexer\u001b[0;34m(self, new_axis, indexer, axis, fill_value, allow_dups, copy, consolidate)\u001b[0m\n\u001b[1;32m   1283\u001b[0m \u001b[38;5;66;03m# some axes don't allow reindexing with dups\u001b[39;00m\n\u001b[1;32m   1284\u001b[0m \u001b[38;5;28;01mif\u001b[39;00m \u001b[38;5;129;01mnot\u001b[39;00m allow_dups:\n\u001b[0;32m-> 1285\u001b[0m     \u001b[38;5;28;43mself\u001b[39;49m\u001b[38;5;241;43m.\u001b[39;49m\u001b[43maxes\u001b[49m\u001b[43m[\u001b[49m\u001b[43maxis\u001b[49m\u001b[43m]\u001b[49m\u001b[38;5;241;43m.\u001b[39;49m\u001b[43m_can_reindex\u001b[49m\u001b[43m(\u001b[49m\u001b[43mindexer\u001b[49m\u001b[43m)\u001b[49m\n\u001b[1;32m   1287\u001b[0m \u001b[38;5;28;01mif\u001b[39;00m axis \u001b[38;5;241m>\u001b[39m\u001b[38;5;241m=\u001b[39m \u001b[38;5;28mself\u001b[39m\u001b[38;5;241m.\u001b[39mndim:\n\u001b[1;32m   1288\u001b[0m     \u001b[38;5;28;01mraise\u001b[39;00m \u001b[38;5;167;01mIndexError\u001b[39;00m(\u001b[38;5;124m\"\u001b[39m\u001b[38;5;124mRequested axis not found in manager\u001b[39m\u001b[38;5;124m\"\u001b[39m)\n",
      "File \u001b[0;32m/usr/lib/python3/dist-packages/pandas/core/indexes/base.py:3292\u001b[0m, in \u001b[0;36mIndex._can_reindex\u001b[0;34m(self, indexer)\u001b[0m\n\u001b[1;32m   3290\u001b[0m \u001b[38;5;66;03m# trying to reindex on an axis with duplicates\u001b[39;00m\n\u001b[1;32m   3291\u001b[0m \u001b[38;5;28;01mif\u001b[39;00m \u001b[38;5;129;01mnot\u001b[39;00m \u001b[38;5;28mself\u001b[39m\u001b[38;5;241m.\u001b[39mis_unique \u001b[38;5;129;01mand\u001b[39;00m \u001b[38;5;28mlen\u001b[39m(indexer):\n\u001b[0;32m-> 3292\u001b[0m     \u001b[38;5;28;01mraise\u001b[39;00m \u001b[38;5;167;01mValueError\u001b[39;00m(\u001b[38;5;124m\"\u001b[39m\u001b[38;5;124mcannot reindex from a duplicate axis\u001b[39m\u001b[38;5;124m\"\u001b[39m)\n",
      "\u001b[0;31mValueError\u001b[0m: cannot reindex from a duplicate axis"
     ]
    }
   ],
   "source": [
    "import seaborn as sn\n",
    "idx = ['1', '2']\n",
    "  \n",
    "# Defining columns for the dataframe\n",
    "cols = list('invoice', 'count')\n",
    "  \n",
    "# Entering values in the index and columns  \n",
    "# and converting them into a panda dataframe\n",
    "df = pd.DataFrame(invoiceAmount, columns = cols, index = idx)\n",
    "  \n",
    "df = pd.DataFrame(df, columns =['invoice', 'count'])\n",
    "  \n",
    "corr = df.corr()\n",
    "sn.heatmap(corr, annot = True)"
   ]
  },
  {
   "cell_type": "code",
   "execution_count": null,
   "id": "d1f0a969-9c42-468c-95ba-3451699df692",
   "metadata": {},
   "outputs": [],
   "source": []
  }
 ],
 "metadata": {
  "kernelspec": {
   "display_name": "Python 3 (ipykernel)",
   "language": "python",
   "name": "python3"
  },
  "language_info": {
   "codemirror_mode": {
    "name": "ipython",
    "version": 3
   },
   "file_extension": ".py",
   "mimetype": "text/x-python",
   "name": "python",
   "nbconvert_exporter": "python",
   "pygments_lexer": "ipython3",
   "version": "3.9.2"
  }
 },
 "nbformat": 4,
 "nbformat_minor": 5
}
