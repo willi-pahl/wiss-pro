{
 "cells": [
  {
   "cell_type": "code",
   "execution_count": 1,
   "id": "812772c7-296c-422f-8e00-29c6f055567e",
   "metadata": {},
   "outputs": [],
   "source": [
    "import pandas as pd\n",
    "import numpy as np\n",
    "import matplotlib.pyplot as plt\n",
    "import seaborn as sns\n",
    "\n",
    "df_orders = pd.read_csv('data/out_default_orders_clean.csv', sep=\";\", header=0)"
   ]
  },
  {
   "cell_type": "code",
   "execution_count": 2,
   "id": "a658d1ad-6178-4966-86f6-6b5a24076541",
   "metadata": {},
   "outputs": [],
   "source": [
    "# Clear orders.\n",
    "df_orders.drop(labels=['orderStatusID', 'clearedDate', 'cleared', 'currency', 'articleName', 'articleId'], axis=1, inplace=True)\n",
    "df_orders = df_orders[(df_orders.number != -0) & (df_orders.shopId == 1)]\n",
    "df_orders.referer = df_orders.referer.fillna('')\n",
    "#print(df_orders.head(10))"
   ]
  },
  {
   "cell_type": "code",
   "execution_count": 3,
   "id": "f08b76d6-fab4-45e6-a51e-6fd09d9d02c9",
   "metadata": {},
   "outputs": [],
   "source": [
    "# Da in der Datei pro lineitem immer der Preis mit dran steht, müssen die doppelten entfernt werden.\n",
    "df_orders = df_orders.drop_duplicates(subset=\"number\", keep='first')\n",
    "#print(df_orders.head(50))"
   ]
  },
  {
   "cell_type": "code",
   "execution_count": 4,
   "id": "860a53c1-b260-4a39-b54a-2891f7d45b79",
   "metadata": {},
   "outputs": [],
   "source": [
    "#df_orders['invoiceAmount','invoiceAmountNet','invoiceShipping'].hist(bins=100, figsize=(30,30))\n",
    "df_orders.drop(labels=['number', 'orderId', 'customerId', 'shopId', 'orderTime', 'referer', 'orderDetailId', 'articleNumber', 'price', 'quantity', 'taxRate'], axis=1, inplace=True)\n",
    "df_orders['invoiceAmount'] = df_orders['invoiceAmount'].str.replace(',','.')\n",
    "df_orders['invoiceAmount'] = df_orders['invoiceAmount'].astype(float)\n",
    "df_orders['invoiceShipping'] = df_orders['invoiceShipping'].str.replace(',','.')\n",
    "df_orders['invoiceShipping'] = df_orders['invoiceShipping'].astype(float)\n",
    "df_orders['invoiceAmountNet'] = df_orders['invoiceAmountNet'].str.replace(',','.')\n",
    "df_orders['invoiceAmountNet'] = df_orders['invoiceAmountNet'].astype(float)\n",
    "#print(df_orders)"
   ]
  },
  {
   "cell_type": "code",
   "execution_count": 11,
   "id": "9b7f17ab-d0fc-4bb0-9c13-e31ce126e580",
   "metadata": {},
   "outputs": [
    {
     "name": "stdout",
     "output_type": "stream",
     "text": [
      "AxesSubplot(0.125,0.125;0.775x0.755)\n"
     ]
    },
    {
     "data": {
      "image/png": "[encoded data removed]",
      "text/plain": [
       "<Figure size 720x720 with 1 Axes>"
      ]
     },
     "metadata": {
      "needs_background": "light"
     },
     "output_type": "display_data"
    }
   ],
   "source": [
    "print(df_orders['invoiceAmount'].hist(bins=100, figsize=(10,10)))"
   ]
  },
  {
   "cell_type": "code",
   "execution_count": 6,
   "id": "7887910d-e5ba-4e4e-9556-37af12d6520a",
   "metadata": {},
   "outputs": [],
   "source": [
    "invoiceAmount=df_orders['invoiceAmount'].value_counts()"
   ]
  },
  {
   "cell_type": "code",
   "execution_count": 7,
   "id": "dffac351-f477-470d-91e0-3e252c59a557",
   "metadata": {},
   "outputs": [
    {
     "ename": "NameError",
     "evalue": "name 'o' is not defined",
     "output_type": "error",
     "traceback": [
      "\u001b[0;31m---------------------------------------------------------------------------\u001b[0m",
      "\u001b[0;31mNameError\u001b[0m                                 Traceback (most recent call last)",
      "Input \u001b[0;32mIn [7]\u001b[0m, in \u001b[0;36m<cell line: 13>\u001b[0;34m()\u001b[0m\n\u001b[1;32m      9\u001b[0m cols \u001b[38;5;241m=\u001b[39m \u001b[38;5;28mlist\u001b[39m(\u001b[38;5;124m'\u001b[39m\u001b[38;5;124mic\u001b[39m\u001b[38;5;124m'\u001b[39m)\n\u001b[1;32m     11\u001b[0m \u001b[38;5;66;03m# Entering values in the index and columns  \u001b[39;00m\n\u001b[1;32m     12\u001b[0m \u001b[38;5;66;03m# and converting them into a panda dataframe\u001b[39;00m\n\u001b[0;32m---> 13\u001b[0m df \u001b[38;5;241m=\u001b[39m pd\u001b[38;5;241m.\u001b[39mDataFrame(\u001b[43mo\u001b[49m, columns \u001b[38;5;241m=\u001b[39m cols, index \u001b[38;5;241m=\u001b[39m idx)\n\u001b[1;32m     15\u001b[0m df \u001b[38;5;241m=\u001b[39m pd\u001b[38;5;241m.\u001b[39mDataFrame(df, columns \u001b[38;5;241m=\u001b[39m[\u001b[38;5;124m'\u001b[39m\u001b[38;5;124minvoice\u001b[39m\u001b[38;5;124m'\u001b[39m, \u001b[38;5;124m'\u001b[39m\u001b[38;5;124mcount\u001b[39m\u001b[38;5;124m'\u001b[39m])\n\u001b[1;32m     17\u001b[0m corr \u001b[38;5;241m=\u001b[39m df\u001b[38;5;241m.\u001b[39mcorr()\n",
      "\u001b[0;31mNameError\u001b[0m: name 'o' is not defined"
     ]
    },
    {
     "data": {
      "image/png": "[encoded data removed]",
      "text/plain": [
       "<Figure size 864x504 with 1 Axes>"
      ]
     },
     "metadata": {
      "needs_background": "light"
     },
     "output_type": "display_data"
    }
   ],
   "source": [
    "import seaborn as sn\n",
    "# Defining figure size  \n",
    "# for the output plot \n",
    "fig, ax = plt.subplots(figsize = (12, 7))\n",
    "\n",
    "idx = ['1', '2']\n",
    "  \n",
    "# Defining columns for the dataframe\n",
    "cols = list('ic')\n",
    "  \n",
    "# Entering values in the index and columns  \n",
    "# and converting them into a panda dataframe\n",
    "df = pd.DataFrame(o, columns = cols, index = idx)\n",
    "  \n",
    "df = pd.DataFrame(df, columns =['invoice', 'count'])\n",
    "  \n",
    "corr = df.corr()\n",
    "sn.heatmap(corr, annot = True)\n",
    "bottom, top = ax.get_ylim()\n",
    "ax.set_ylim(bottom + 0.5, top - 0.5)"
   ]
  },
  {
   "cell_type": "code",
   "execution_count": null,
   "id": "d1f0a969-9c42-468c-95ba-3451699df692",
   "metadata": {},
   "outputs": [],
   "source": []
  }
 ],
 "metadata": {
  "kernelspec": {
   "display_name": "Python 3 (ipykernel)",
   "language": "python",
   "name": "python3"
  },
  "language_info": {
   "codemirror_mode": {
    "name": "ipython",
    "version": 3
   },
   "file_extension": ".py",
   "mimetype": "text/x-python",
   "name": "python",
   "nbconvert_exporter": "python",
   "pygments_lexer": "ipython3",
   "version": "3.9.2"
  }
 },
 "nbformat": 4,
 "nbformat_minor": 5
}
